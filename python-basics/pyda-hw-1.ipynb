{
 "cells": [
  {
   "cell_type": "markdown",
   "metadata": {},
   "source": [
    "# Домашнее задание к лекции \"Основы Python\""
   ]
  },
  {
   "cell_type": "markdown",
   "metadata": {},
   "source": [
    "**Задание 1.**\n",
    "Даны 2 переменных, в которых хранятся строки произвольной длины: phrase_1 и phrase_2.\n",
    "Напишите код, который проверяет какая из этих строк длиннее."
   ]
  },
  {
   "cell_type": "code",
   "execution_count": 4,
   "metadata": {},
   "outputs": [
    {
     "name": "stdout",
     "output_type": "stream",
     "text": [
      "Фраза 1 длиннее фразы 2\n"
     ]
    }
   ],
   "source": [
    "phrase_1 = 'Насколько проще было бы писать программы, если бы не заказчики'\n",
    "phrase_2 = '640Кб должно хватить для любых задач. Билл Гейтс (по легенде)'\n",
    "\n",
    "if len(phrase_1) > len(phrase_2):\n",
    "    print('Фраза 1 длиннее фразы 2')\n",
    "elif len(phrase_1) < len(phrase_2):\n",
    "    print('Фраза 2 длиннее фразы 1') \n",
    "else:\n",
    "    print('Фразы равной длины')"
   ]
  },
  {
   "cell_type": "markdown",
   "metadata": {},
   "source": [
    "**Задание 2.**\n",
    "Дана переменная, в которой хранится четырехзначное число (год). Необходимо написать программу, которая выведет, является ли данный год високосным или обычным."
   ]
  },
  {
   "cell_type": "code",
   "execution_count": 22,
   "metadata": {},
   "outputs": [
    {
     "name": "stdout",
     "output_type": "stream",
     "text": [
      "Введите год: 2019\n",
      "Обычный год\n"
     ]
    }
   ],
   "source": [
    "year = int(input(\"Введите год: \"))\n",
    "if year % 4 == 0 and (year % 100 != 0 or year % 400 == 0):\n",
    "    print('Висококсный год')        \n",
    "else:\n",
    "    print('Обычный год')"
   ]
  },
  {
   "cell_type": "markdown",
   "metadata": {},
   "source": [
    "**Задание 3.**\n",
    "Необходимо написать программу, которая будет запрашивать у пользователя месяц и дату рождения и выводить соответствующий знак зодиака."
   ]
  },
  {
   "cell_type": "code",
   "execution_count": 30,
   "metadata": {},
   "outputs": [
    {
     "name": "stdout",
     "output_type": "stream",
     "text": [
      "Введите месяц: май\n",
      "Введите число: 15\n",
      "Вывод: Телец\n"
     ]
    }
   ],
   "source": [
    "month = input('Введите месяц: ')\n",
    "day = int(input('Введите число: '))\n",
    "if 31 >= day > 0:\n",
    "    if (month == 'январь' and day >= 20) or (month == 'февраль' and day <= 20):\n",
    "        zodiac = 'Водолей'\n",
    "    if (month == 'февраль' and day >= 20) or (month == 'март' and day <= 21):\n",
    "        zodiac = 'Рыбы'\n",
    "    if (month == 'март' and day >= 21) or (month == 'апрель' and day <= 21):\n",
    "        zodiac = 'Овен'       \n",
    "    if (month == 'апрель' and day >= 21) or (month == 'май' and day <= 21):\n",
    "        zodiac = 'Телец'\n",
    "    if (month == 'май' and day >= 21) or (month == 'июнь' and day <= 21):\n",
    "        zodiac = 'Близнецы'\n",
    "    if (month == 'июнь' and day >= 21) or (month == 'июль' and day <= 23):\n",
    "        zodiac = 'Рак'\n",
    "    if (month == 'июль' and day >= 23) or (month == 'август' and day <= 23):\n",
    "        zodiac = 'Лев'\n",
    "    if (month == 'август' and day >= 23) or (month == 'сентябрь' and day <= 23):\n",
    "        zodiac = 'Дева'\n",
    "    if (month == 'сентябрь' and day >= 23) or (month == 'октябрь' and day <= 23):\n",
    "        zodiac = 'Весы'\n",
    "    if (month == 'октябрь' and day >= 23) or (month == 'ноябрь' and day <= 23):\n",
    "        zodiac = 'Скорпион'\n",
    "    if (month == 'ноябрь' and day >= 23) or (month == 'декабрь' and day <= 22):\n",
    "        zodiac = 'Стрелец'\n",
    "    if (month == 'декабрь' and day >= 22) or (month == 'январь' and day <= 20):\n",
    "        zodiac = 'Козерог'\n",
    "print('Вывод:',zodiac)"
   ]
  },
  {
   "cell_type": "markdown",
   "metadata": {},
   "source": [
    "**Задание 4.**\n",
    "Вам нужно написать программу для подбора упаковок по размерам товара. Размеры хранятся в переменных (в сантиметрах):\n",
    "\n",
    "width = 10\n",
    "length = 205\n",
    "height = 5\n",
    "Используйте следующие правила:\n",
    "\n",
    "если каждое из трех измерений менее 15 сантиметров, то выведите на экран \"Коробка №1\";\n",
    "если хотя бы одно из измерений больше 15 сантиметров, но менее 50 сантиметров, то выводите \"Коробка №2\";\n",
    "если длина товара больше 2 метров, то выводите \"Упаковка для лыж\";\n",
    "во всех остальных случаях выводите \"Стандартная коробка №3\"."
   ]
  },
  {
   "cell_type": "code",
   "execution_count": 35,
   "metadata": {},
   "outputs": [
    {
     "name": "stdout",
     "output_type": "stream",
     "text": [
      "Упаковка для лыж\n"
     ]
    }
   ],
   "source": [
    "width = 10 \n",
    "length = 205\n",
    "height = 5\n",
    "\n",
    "if width < 15 and length < 15 and height < 15:\n",
    "    print('Коробка №1')\n",
    "elif (15 < width < 50) or (15 < length < 50) or (15 < height < 50):\n",
    "    print('Коробка №2')\n",
    "elif length > 200:\n",
    "    print('Упаковка для лыж')\n",
    "else:\n",
    "    print('Стандартная коробка №3')"
   ]
  },
  {
   "cell_type": "markdown",
   "metadata": {},
   "source": [
    "**Задание 5 (необязательное).**\n",
    "Дана переменная, в которой хранится шестизначное число (номер проездного билета). Напишите программу, которая будет определять, является ли данный билет \"счастливым\". Билет считается счастливым, если сумма первых трех цифр совпадает с суммой последних трех цифр номера."
   ]
  },
  {
   "cell_type": "code",
   "execution_count": 25,
   "metadata": {},
   "outputs": [
    {
     "name": "stdout",
     "output_type": "stream",
     "text": [
      "Введите шестизначное число: 123321\n",
      "Счастливый билет\n"
     ]
    }
   ],
   "source": [
    "number = (input('Введите шестизначное число: '))\n",
    "if sum(int(n) for n in number[:3]) == sum(int(n) for n in number[-3:]):\n",
    "    print('Счастливый билет')\n",
    "else:\n",
    "    print('Неасчастливый билет')"
   ]
  },
  {
   "cell_type": "code",
   "execution_count": 96,
   "metadata": {},
   "outputs": [
    {
     "name": "stdout",
     "output_type": "stream",
     "text": [
      "Введите шестизначное число: 123321\n",
      "Счастливый билет\n"
     ]
    }
   ],
   "source": [
    "number = float(input('Введите шестизначное число: '))\n",
    "\n",
    "n1 = number // 100000\n",
    "n2 = number % 100000 // 10000\n",
    "n3 = number % 10000 // 1000\n",
    "n4 = number % 1000 // 100\n",
    "n5 = number % 100 // 10\n",
    "n6 = number % 10\n",
    "    \n",
    "if (n1 + n2 + n3) == (n4 + n5 + n6):\n",
    "    print('Счастливый билет')\n",
    "else:\n",
    "    print('Неасчастливый билет')\n"
   ]
  },
  {
   "cell_type": "markdown",
   "metadata": {},
   "source": [
    "**Задание 6 (необязательное).**\n",
    "Напишите программу, которая сможет вычислять площади трех фигур (круг, треугольник и прямоугольник). Тип фигуры запрашиваем через пользовательский ввод, после чего делаем запрос характеристик фигуры:\n",
    "\n",
    "если пользователь выбрал круг, запрашиваем его радиус,\n",
    "если треугольник – длины трех его сторон;\n",
    "если прямоугольник – длины двух его сторон."
   ]
  },
  {
   "cell_type": "code",
   "execution_count": 81,
   "metadata": {},
   "outputs": [
    {
     "name": "stdout",
     "output_type": "stream",
     "text": [
      "Введите тип фигуры: Треугольник\n",
      "Введите длину стороны A: 3\n",
      "Введите длину стороны B: 4\n",
      "Введите длину стороны C: 5\n",
      "Площадь треугольника: 6.0\n"
     ]
    }
   ],
   "source": [
    "from math import sqrt, pi\n",
    "figure = (input('Введите тип фигуры: '))\n",
    "\n",
    "if figure == 'Круг':\n",
    "    r = int(input('Введите радиус круга: '))\n",
    "    s1 = (r ** 2) * pi\n",
    "    print('Площадь круга: '+ str(round(s1, 2)))\n",
    "\n",
    "if figure == 'Треугольник':\n",
    "    a = float(input('Введите длину стороны A: ')) \n",
    "    b = float(input('Введите длину стороны B: ')) \n",
    "    c = float(input('Введите длину стороны C: ')) \n",
    "    p = (a + b + c) / 2\n",
    "    s2 = str(round(sqrt(p * (p - a) * (p - b) * (p - c)), 2))\n",
    "    print('Площадь треугольника: '+ s2)\n",
    "\n",
    "if figure == 'Прямоугольник':\n",
    "    s3 = int(input('Введите длину стороны X: ')) * (input('Введите длину стороны Y: '))\n",
    "    print('Площадь прямоугольника: '+ s3)"
   ]
  }
 ],
 "metadata": {
  "kernelspec": {
   "display_name": "Python 3",
   "language": "python",
   "name": "python3"
  },
  "language_info": {
   "codemirror_mode": {
    "name": "ipython",
    "version": 3
   },
   "file_extension": ".py",
   "mimetype": "text/x-python",
   "name": "python",
   "nbconvert_exporter": "python",
   "pygments_lexer": "ipython3",
   "version": "3.8.3"
  }
 },
 "nbformat": 4,
 "nbformat_minor": 4
}
